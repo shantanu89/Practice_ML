{
 "cells": [
  {
   "cell_type": "code",
   "execution_count": 18,
   "metadata": {},
   "outputs": [
    {
     "name": "stdout",
     "output_type": "stream",
     "text": [
      "Enter number : 4\n"
     ]
    }
   ],
   "source": [
    "n=int(input(\"Enter number : \"))"
   ]
  },
  {
   "cell_type": "code",
   "execution_count": 30,
   "metadata": {},
   "outputs": [
    {
     "name": "stdout",
     "output_type": "stream",
     "text": [
      "Enter name and marksArpita 99 99 99\n",
      "Enter name and marksHarish 90\n",
      "Enter name and marksShivam 78 89 87\n",
      "Enter name and marksRachana 67 56 78\n"
     ]
    }
   ],
   "source": [
    "dictionary={}\n",
    "for i in range(n):\n",
    "    name,*line=input(\"Enter name and marks\").split()\n",
    "    scores=list(map(float,line))\n",
    "    dictionary[name]=scores"
   ]
  },
  {
   "cell_type": "code",
   "execution_count": 31,
   "metadata": {
    "scrolled": true
   },
   "outputs": [
    {
     "data": {
      "text/plain": [
       "{'Arpita': [99.0, 99.0, 99.0],\n",
       " 'Harish': [90.0],\n",
       " 'Shivam': [78.0, 89.0, 87.0],\n",
       " 'Rachana': [67.0, 56.0, 78.0]}"
      ]
     },
     "execution_count": 31,
     "metadata": {},
     "output_type": "execute_result"
    }
   ],
   "source": [
    "dictionary"
   ]
  },
  {
   "cell_type": "code",
   "execution_count": 32,
   "metadata": {},
   "outputs": [
    {
     "name": "stdout",
     "output_type": "stream",
     "text": [
      "Select any name : Arpita\n"
     ]
    }
   ],
   "source": [
    "name=input(\"Select any name : \")"
   ]
  },
  {
   "cell_type": "code",
   "execution_count": 33,
   "metadata": {},
   "outputs": [
    {
     "name": "stdout",
     "output_type": "stream",
     "text": [
      "99.00\n"
     ]
    }
   ],
   "source": [
    "sum=0\n",
    "for i in dictionary[name]:\n",
    "    sum+=int(i)\n",
    "print(\"{0:0.2f}\".format(sum/len(dictionary[name])))"
   ]
  },
  {
   "cell_type": "code",
   "execution_count": null,
   "metadata": {},
   "outputs": [],
   "source": []
  }
 ],
 "metadata": {
  "kernelspec": {
   "display_name": "Python 3",
   "language": "python",
   "name": "python3"
  },
  "language_info": {
   "codemirror_mode": {
    "name": "ipython",
    "version": 3
   },
   "file_extension": ".py",
   "mimetype": "text/x-python",
   "name": "python",
   "nbconvert_exporter": "python",
   "pygments_lexer": "ipython3",
   "version": "3.8.5"
  }
 },
 "nbformat": 4,
 "nbformat_minor": 4
}
