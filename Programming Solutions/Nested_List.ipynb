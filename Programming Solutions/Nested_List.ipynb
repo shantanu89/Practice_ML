{
 "cells": [
  {
   "cell_type": "code",
   "execution_count": 1,
   "metadata": {},
   "outputs": [],
   "source": [
    "# ['Harish',82.1]['Arpita',97]['Rachana',78]['Shivam',42]['Supriya',71]['Kunal',58]"
   ]
  },
  {
   "cell_type": "code",
   "execution_count": 2,
   "metadata": {},
   "outputs": [
    {
     "name": "stdout",
     "output_type": "stream",
     "text": [
      "Enter records :6\n"
     ]
    }
   ],
   "source": [
    "n=int(input(\"Enter records :\"))"
   ]
  },
  {
   "cell_type": "code",
   "execution_count": 4,
   "metadata": {},
   "outputs": [
    {
     "name": "stdout",
     "output_type": "stream",
     "text": [
      "Enter name : Harish\n",
      "Enter score : 82.1\n",
      "Enter name : Arpita\n",
      "Enter score : 97\n",
      "Enter name : Rachana\n",
      "Enter score : 78\n",
      "Enter name : Shivan\n",
      "Enter score : 42\n",
      "Enter name : Supriya\n",
      "Enter score : 41\n",
      "Enter name : kunal\n",
      "Enter score : 41\n"
     ]
    }
   ],
   "source": [
    "records=[]\n",
    "grads=[]\n",
    "for i in range(n):\n",
    "    name=input(\"Enter name : \")\n",
    "    score=float(input(\"Enter score : \"))\n",
    "    \n",
    "    records.append([name,score])\n",
    "    grads.append(score)"
   ]
  },
  {
   "cell_type": "code",
   "execution_count": 7,
   "metadata": {},
   "outputs": [
    {
     "data": {
      "text/plain": [
       "[['Harish', 82.1],\n",
       " ['Arpita', 97.0],\n",
       " ['Rachana', 78.0],\n",
       " ['Shivan', 42.0],\n",
       " ['Supriya', 41.0],\n",
       " ['kunal', 41.0]]"
      ]
     },
     "execution_count": 7,
     "metadata": {},
     "output_type": "execute_result"
    }
   ],
   "source": [
    "records"
   ]
  },
  {
   "cell_type": "code",
   "execution_count": 8,
   "metadata": {},
   "outputs": [],
   "source": [
    "sorted_rec=sorted(records)"
   ]
  },
  {
   "cell_type": "code",
   "execution_count": 9,
   "metadata": {},
   "outputs": [
    {
     "data": {
      "text/plain": [
       "[['Arpita', 97.0],\n",
       " ['Harish', 82.1],\n",
       " ['Rachana', 78.0],\n",
       " ['Shivan', 42.0],\n",
       " ['Supriya', 41.0],\n",
       " ['kunal', 41.0]]"
      ]
     },
     "execution_count": 9,
     "metadata": {},
     "output_type": "execute_result"
    }
   ],
   "source": [
    "sorted_rec"
   ]
  },
  {
   "cell_type": "code",
   "execution_count": 10,
   "metadata": {},
   "outputs": [
    {
     "data": {
      "text/plain": [
       "[82.1, 97.0, 78.0, 42.0, 41.0, 41.0]"
      ]
     },
     "execution_count": 10,
     "metadata": {},
     "output_type": "execute_result"
    }
   ],
   "source": [
    "grads"
   ]
  },
  {
   "cell_type": "code",
   "execution_count": 11,
   "metadata": {},
   "outputs": [],
   "source": [
    "sorted_grads=sorted(set(grads))"
   ]
  },
  {
   "cell_type": "code",
   "execution_count": 13,
   "metadata": {},
   "outputs": [
    {
     "data": {
      "text/plain": [
       "[41.0, 42.0, 78.0, 82.1, 97.0]"
      ]
     },
     "execution_count": 13,
     "metadata": {},
     "output_type": "execute_result"
    }
   ],
   "source": [
    "sorted_grads"
   ]
  },
  {
   "cell_type": "code",
   "execution_count": 17,
   "metadata": {},
   "outputs": [],
   "source": [
    "num=sorted_grads[0]"
   ]
  },
  {
   "cell_type": "code",
   "execution_count": 18,
   "metadata": {},
   "outputs": [
    {
     "name": "stdout",
     "output_type": "stream",
     "text": [
      "Supriya\n",
      "kunal\n"
     ]
    }
   ],
   "source": [
    "for i in sorted_rec:\n",
    "    if i[1]==num:\n",
    "        print(i[0])"
   ]
  },
  {
   "cell_type": "code",
   "execution_count": null,
   "metadata": {},
   "outputs": [],
   "source": []
  }
 ],
 "metadata": {
  "kernelspec": {
   "display_name": "Python 3",
   "language": "python",
   "name": "python3"
  },
  "language_info": {
   "codemirror_mode": {
    "name": "ipython",
    "version": 3
   },
   "file_extension": ".py",
   "mimetype": "text/x-python",
   "name": "python",
   "nbconvert_exporter": "python",
   "pygments_lexer": "ipython3",
   "version": "3.8.5"
  }
 },
 "nbformat": 4,
 "nbformat_minor": 4
}
